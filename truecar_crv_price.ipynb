{
 "cells": [
  {
   "cell_type": "markdown",
   "metadata": {},
   "source": [
    "# Reading web page into Python"
   ]
  },
  {
   "cell_type": "code",
   "execution_count": 1,
   "metadata": {
    "collapsed": true
   },
   "outputs": [],
   "source": [
    "import pandas as pd\n",
    "import requests\n",
    "r = requests.get('https://www.truecar.com/used-cars-for-sale/listings/honda/cr-v/location-06824/?used_opt=usedmake')"
   ]
  },
  {
   "cell_type": "code",
   "execution_count": 2,
   "metadata": {},
   "outputs": [
    {
     "name": "stdout",
     "output_type": "stream",
     "text": [
      "<!doctype html><html lang=\"en-US\" data-qa=\"Index\"><head><title data-react-helmet=\"true\">Used Honda CR-V for Sale in Fairfield, CT | 706 Used CR-V Listings in Fairfield | TrueCar</title><meta data-react-helmet=\"true\" name=\"viewport\" content=\"width=device-width, initial-scale=1, maximum-scale=1, user-scalable=no\"/><meta data-react-helmet=\"true\" name=\"description\" content=\"Search over 706 Used Honda CR-V listings in Fairfield, CT. TrueCar has over 862,419 total used car listings, updated daily. Com\n"
     ]
    }
   ],
   "source": [
    "print (r.text[0:500])"
   ]
  },
  {
   "cell_type": "markdown",
   "metadata": {},
   "source": [
    "# Parsing the HTML using Beautiful Soup"
   ]
  },
  {
   "cell_type": "code",
   "execution_count": 3,
   "metadata": {
    "collapsed": true
   },
   "outputs": [],
   "source": [
    "from bs4 import BeautifulSoup"
   ]
  },
  {
   "cell_type": "code",
   "execution_count": 4,
   "metadata": {
    "collapsed": true
   },
   "outputs": [],
   "source": [
    "soup = BeautifulSoup(r.text,'html.parser')"
   ]
  },
  {
   "cell_type": "markdown",
   "metadata": {},
   "source": [
    "# collecting"
   ]
  },
  {
   "cell_type": "code",
   "execution_count": 5,
   "metadata": {
    "collapsed": true
   },
   "outputs": [],
   "source": [
    "year_raw = soup.find_all('span',attrs = {'class':'_176r2bw'})\n",
    "price_raw = soup.find_all('p',attrs = {'class':'price'})\n",
    "mileage_raw = soup.find_all('ul',attrs = {'class':'vehicle-info list-unstyled'})"
   ]
  },
  {
   "cell_type": "code",
   "execution_count": 6,
   "metadata": {},
   "outputs": [
    {
     "name": "stdout",
     "output_type": "stream",
     "text": [
      "26,501 \n"
     ]
    }
   ],
   "source": [
    "print (mileage_raw[1].text[9:16])"
   ]
  },
  {
   "cell_type": "markdown",
   "metadata": {},
   "source": [
    "# Puting data into pandas dataframe"
   ]
  },
  {
   "cell_type": "code",
   "execution_count": 11,
   "metadata": {},
   "outputs": [
    {
     "name": "stdout",
     "output_type": "stream",
     "text": [
      "['2011', '2014', '2014', '2016', '2014', '2014', '2014', '2014', '2014', '2014', '2014', '2014', '2014', '2014', '2014', '2014', '2014', '2014', '2015', '2015', '2014', '2015', '2015', '2014', '2013', '2013', '2010', '2014', '2014', '2007', '2015', '2014', '2016', '2011', '2014', '2010', '2015', '2014', '2012', '2014', '2014', '2014', '2014', '2014', '2014', '2014', '2014', '2014', '2014', '2014']\n"
     ]
    }
   ],
   "source": [
    "year = []\n",
    "for y in year_raw:\n",
    "    ye = y.text[0:4]\n",
    "    year.append(ye)\n",
    "print (year)"
   ]
  },
  {
   "cell_type": "code",
   "execution_count": 8,
   "metadata": {},
   "outputs": [
    {
     "name": "stdout",
     "output_type": "stream",
     "text": [
      "['$9,995', '$13,690', '$12,888', '$16,995', '$16,000', '$14,888', '$14,999', '$13,990', '$13,980', '$12,890', '$18,388', '$17,000', '$17,486', '$16,700', '$12,890', '$17,661', '$17,430', '$16,665', '$15,500', '$17,900', '$14,890', '$18,231', '$18,591', '$16,895', '$15,500', '$15,999', '$10,495', '$17,784', '$16,995', '$10,495', '$17,670', '$16,499', '$17,800', '$11,675', '$16,555', '$13,991', '$17,802', '$15,299', '$14,995', '$15,490', '$16,645', '$15,000', '$16,999', '$19,300', '$18,390', '$18,888', '$17,750', '$15,900', '$17,500', '$17,940']\n"
     ]
    }
   ],
   "source": [
    "price = []\n",
    "for p in price_raw:\n",
    "    pri = p.text\n",
    "    price.append(pri)\n",
    "print (price)"
   ]
  },
  {
   "cell_type": "code",
   "execution_count": 9,
   "metadata": {},
   "outputs": [
    {
     "name": "stdout",
     "output_type": "stream",
     "text": [
      "['46,600 ', '26,501 ', '31,664 ', '2,975 m', '33,855 ', '14,069 ', '30,620 ', '34,935 ', '35,342 ', '47,796 ', '25,895 ', '27,072 ', '14,608 ', '32,267 ', '50,991 ', '14,989 ', '19,937 ', '30,667 ', '29,221 ', '20,027 ', '35,610 ', '14,033 ', '20,737 ', '19,984 ', '49,350 ', '15,646 ', '84,419 ', '22,469 ', '35,562 ', '53,182 ', '25,642 ', '39,501 ', '32,786 ', '39,218 ', '23,573 ', '42,898 ', '25,729 ', '45,398 ', '51,983 ', '37,261 ', '27,822 ', '36,736 ', '20,121 ', '18,874 ', '20,698 ', '39,810 ', '29,220 ', '27,709 ', '23,731 ', '26,362 ']\n"
     ]
    }
   ],
   "source": [
    "mileage = []\n",
    "for m in mileage_raw:\n",
    "    mile = m.text[9:16]\n",
    "    mileage.append(mile)\n",
    "print (mileage)"
   ]
  },
  {
   "cell_type": "code",
   "execution_count": 12,
   "metadata": {},
   "outputs": [
    {
     "name": "stdout",
     "output_type": "stream",
     "text": [
      "    Year    Price  Mileage\n",
      "0   2011   $9,995  46,600 \n",
      "1   2014  $13,690  26,501 \n",
      "2   2014  $12,888  31,664 \n",
      "3   2016  $16,995  2,975 m\n",
      "4   2014  $16,000  33,855 \n",
      "5   2014  $14,888  14,069 \n",
      "6   2014  $14,999  30,620 \n",
      "7   2014  $13,990  34,935 \n",
      "8   2014  $13,980  35,342 \n",
      "9   2014  $12,890  47,796 \n",
      "10  2014  $18,388  25,895 \n",
      "11  2014  $17,000  27,072 \n",
      "12  2014  $17,486  14,608 \n",
      "13  2014  $16,700  32,267 \n",
      "14  2014  $12,890  50,991 \n",
      "15  2014  $17,661  14,989 \n",
      "16  2014  $17,430  19,937 \n",
      "17  2014  $16,665  30,667 \n",
      "18  2015  $15,500  29,221 \n",
      "19  2015  $17,900  20,027 \n",
      "20  2014  $14,890  35,610 \n",
      "21  2015  $18,231  14,033 \n",
      "22  2015  $18,591  20,737 \n",
      "23  2014  $16,895  19,984 \n",
      "24  2013  $15,500  49,350 \n",
      "25  2013  $15,999  15,646 \n",
      "26  2010  $10,495  84,419 \n",
      "27  2014  $17,784  22,469 \n",
      "28  2014  $16,995  35,562 \n",
      "29  2007  $10,495  53,182 \n",
      "30  2015  $17,670  25,642 \n",
      "31  2014  $16,499  39,501 \n",
      "32  2016  $17,800  32,786 \n",
      "33  2011  $11,675  39,218 \n",
      "34  2014  $16,555  23,573 \n",
      "35  2010  $13,991  42,898 \n",
      "36  2015  $17,802  25,729 \n",
      "37  2014  $15,299  45,398 \n",
      "38  2012  $14,995  51,983 \n",
      "39  2014  $15,490  37,261 \n",
      "40  2014  $16,645  27,822 \n",
      "41  2014  $15,000  36,736 \n",
      "42  2014  $16,999  20,121 \n",
      "43  2014  $19,300  18,874 \n",
      "44  2014  $18,390  20,698 \n",
      "45  2014  $18,888  39,810 \n",
      "46  2014  $17,750  29,220 \n",
      "47  2014  $15,900  27,709 \n",
      "48  2014  $17,500  23,731 \n",
      "49  2014  $17,940  26,362 \n"
     ]
    }
   ],
   "source": [
    "CR_V = pd.DataFrame([year,price,mileage])\n",
    "CR_V=CR_V.transpose()\n",
    "CR_V.columns = ['Year','Price','Mileage']\n",
    "print (CR_V)"
   ]
  },
  {
   "cell_type": "code",
   "execution_count": null,
   "metadata": {
    "collapsed": true
   },
   "outputs": [],
   "source": []
  }
 ],
 "metadata": {
  "kernelspec": {
   "display_name": "Python 3",
   "language": "python",
   "name": "python3"
  },
  "language_info": {
   "codemirror_mode": {
    "name": "ipython",
    "version": 3
   },
   "file_extension": ".py",
   "mimetype": "text/x-python",
   "name": "python",
   "nbconvert_exporter": "python",
   "pygments_lexer": "ipython3",
   "version": "3.6.2"
  }
 },
 "nbformat": 4,
 "nbformat_minor": 2
}
